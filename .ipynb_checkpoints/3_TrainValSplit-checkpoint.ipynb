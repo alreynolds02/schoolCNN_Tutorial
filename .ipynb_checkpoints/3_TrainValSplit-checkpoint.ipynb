{
 "cells": [
  {
   "cell_type": "code",
   "execution_count": null,
   "metadata": {},
   "outputs": [],
   "source": [
    "import pandas as pd\n",
    "import random\n",
    "import shutil\n",
    "import math\n",
    "import os"
   ]
  },
  {
   "cell_type": "code",
   "execution_count": null,
   "metadata": {},
   "outputs": [],
   "source": [
    "coords = pd.read_csv(\"./data/y1314_df.csv\")\n",
    "\n",
    "pass_files = os.listdir(\"./data/pass/\")\n",
    "fail_files = os.listdir(\"./data/fail/\")\n",
    "\n",
    "pass_length = len(pass_files)\n",
    "fail_length = len(fail_files)\n",
    "\n",
    "TrainPassNum = math.ceil(pass_length * .75)\n",
    "TrainFailNum = math.ceil(fail_length * .75)\n",
    "ValPassNum = pass_length - TrainPassNum\n",
    "ValFailNum = fail_length - TrainFailNum\n",
    "\n",
    "TrainPass = random.sample(pass_files, TrainPassNum)\n",
    "TrainFail = random.sample(fail_files, TrainFailNum)\n",
    "ValPass = list(set(pass_files) - set(TrainPass))\n",
    "ValFail = list(set(fail_files) - set(TrainFail))"
   ]
  },
  {
   "cell_type": "code",
   "execution_count": null,
   "metadata": {},
   "outputs": [],
   "source": [
    "for filename in TrainPass:\n",
    "    fName = \"./data/pass/\" + filename\n",
    "    shutil.copy(fName, \"./data/train/pass\")\n",
    "\n",
    "for filename in TrainFail:\n",
    "    fName = \"./data/fail/\" + filename\n",
    "    shutil.copy(fName, \"./data/train/fail\")\n",
    "\n",
    "for filename in ValPass:\n",
    "    fName = \"./data/pass/\" + filename\n",
    "    shutil.copy(fName, \"./data/val/pass\")\n",
    "\n",
    "for filename in ValFail:\n",
    "    fName = \"./data/fail/\" + filename\n",
    "    shutil.copy(fName, \"./data/val/fail\")"
   ]
  }
 ],
 "metadata": {
  "kernelspec": {
   "display_name": "Python 3",
   "language": "python",
   "name": "python3"
  },
  "language_info": {
   "codemirror_mode": {
    "name": "ipython",
    "version": 3
   },
   "file_extension": ".py",
   "mimetype": "text/x-python",
   "name": "python",
   "nbconvert_exporter": "python",
   "pygments_lexer": "ipython3",
   "version": "3.7.4"
  }
 },
 "nbformat": 4,
 "nbformat_minor": 4
}
