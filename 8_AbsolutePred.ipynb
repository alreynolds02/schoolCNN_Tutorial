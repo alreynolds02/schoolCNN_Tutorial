{
 "cells": [
  {
   "cell_type": "code",
   "execution_count": 10,
   "metadata": {},
   "outputs": [
    {
     "data": {
      "text/html": [
       "<div>\n",
       "<style scoped>\n",
       "    .dataframe tbody tr th:only-of-type {\n",
       "        vertical-align: middle;\n",
       "    }\n",
       "\n",
       "    .dataframe tbody tr th {\n",
       "        vertical-align: top;\n",
       "    }\n",
       "\n",
       "    .dataframe thead th {\n",
       "        text-align: right;\n",
       "    }\n",
       "</style>\n",
       "<table border=\"1\" class=\"dataframe\">\n",
       "  <thead>\n",
       "    <tr style=\"text-align: right;\">\n",
       "      <th></th>\n",
       "      <th>school_id</th>\n",
       "      <th>prob_fail</th>\n",
       "      <th>prob_pass</th>\n",
       "      <th>mean</th>\n",
       "    </tr>\n",
       "  </thead>\n",
       "  <tbody>\n",
       "    <tr>\n",
       "      <td>0</td>\n",
       "      <td>300897</td>\n",
       "      <td>35.869400</td>\n",
       "      <td>64.130600</td>\n",
       "      <td>29.388333</td>\n",
       "    </tr>\n",
       "    <tr>\n",
       "      <td>1</td>\n",
       "      <td>107371</td>\n",
       "      <td>70.903023</td>\n",
       "      <td>29.096975</td>\n",
       "      <td>33.152000</td>\n",
       "    </tr>\n",
       "    <tr>\n",
       "      <td>2</td>\n",
       "      <td>305290</td>\n",
       "      <td>70.519974</td>\n",
       "      <td>29.480024</td>\n",
       "      <td>26.050000</td>\n",
       "    </tr>\n",
       "    <tr>\n",
       "      <td>3</td>\n",
       "      <td>105374</td>\n",
       "      <td>51.682751</td>\n",
       "      <td>48.317249</td>\n",
       "      <td>37.872000</td>\n",
       "    </tr>\n",
       "    <tr>\n",
       "      <td>4</td>\n",
       "      <td>106480</td>\n",
       "      <td>36.727261</td>\n",
       "      <td>63.272739</td>\n",
       "      <td>30.442000</td>\n",
       "    </tr>\n",
       "  </tbody>\n",
       "</table>\n",
       "</div>"
      ],
      "text/plain": [
       "   school_id  prob_fail  prob_pass       mean\n",
       "0     300897  35.869400  64.130600  29.388333\n",
       "1     107371  70.903023  29.096975  33.152000\n",
       "2     305290  70.519974  29.480024  26.050000\n",
       "3     105374  51.682751  48.317249  37.872000\n",
       "4     106480  36.727261  63.272739  30.442000"
      ]
     },
     "execution_count": 10,
     "metadata": {},
     "output_type": "execute_result"
    }
   ],
   "source": [
    "import pandas as pd\n",
    "import seaborn as sns\n",
    "import matplotlib.pyplot as plt\n",
    "import matplotlib.colors as cm\n",
    "import numpy as np\n",
    "from sklearn.model_selection import train_test_split\n",
    "from sklearn.svm import SVR\n",
    "from sklearn import tree\n",
    "from sklearn.ensemble import RandomForestRegressor\n",
    "from sklearn.metrics import mean_absolute_error\n",
    "from sklearn.neighbors import KNeighborsRegressor\n",
    "from sklearn.neural_network import MLPRegressor\n",
    "from sklearn.ensemble import AdaBoostRegressor\n",
    "from sklearn import linear_model\n",
    "from sklearn.linear_model import Ridge\n",
    "from sklearn.linear_model import LogisticRegression\n",
    "from sklearn.ensemble import BaggingRegressor\n",
    "\n",
    "\n",
    "# Read in and split data into training and validation sets \n",
    "df = pd.read_csv(\"./data/y1314_df.csv\")\n",
    "df = df.drop(['intervention', 'latitude', 'longitude'], axis = 1)\n",
    "\n",
    "dta = pd.read_csv(\"./data/Preds.csv\")\n",
    "dta = pd.merge(dta, df, on = 'school_id')\n",
    "dta.head()"
   ]
  },
  {
   "cell_type": "code",
   "execution_count": 11,
   "metadata": {},
   "outputs": [],
   "source": [
    "# Train Test split the data\n",
    "msk = np.random.rand(len(dta)) < 0.8\n",
    "\n",
    "train = dta[msk]\n",
    "test = dta[~msk]\n",
    "\n",
    "y_train = train.pop(\"mean\")\n",
    "x_train = train\n",
    "\n",
    "y_test = test.pop(\"mean\")\n",
    "x_test = test"
   ]
  },
  {
   "cell_type": "code",
   "execution_count": 12,
   "metadata": {},
   "outputs": [
    {
     "name": "stderr",
     "output_type": "stream",
     "text": [
      "/usr/local/lib/python3.7/site-packages/sklearn/svm/base.py:193: FutureWarning: The default value of gamma will change from 'auto' to 'scale' in version 0.22 to account better for unscaled features. Set gamma explicitly to 'auto' or 'scale' to avoid this warning.\n",
      "  \"avoid this warning.\", FutureWarning)\n"
     ]
    }
   ],
   "source": [
    "svr_regression = SVR()\n",
    "svr_regressionFit = svr_regression.fit(x_train, y_train)\n",
    "\n",
    "DT_regression = tree.DecisionTreeRegressor(random_state = 1693, max_depth = 3)\n",
    "DT_regressionFit = DT_regression.fit(x_train, y_train)\n",
    "\n",
    "RF_regression = RandomForestRegressor(n_estimators = 100, random_state = 1693)\n",
    "RF_regressionFit = RF_regression.fit(x_train, y_train)\n",
    "\n",
    "neigh = KNeighborsRegressor(n_neighbors=2)\n",
    "neighFit = neigh.fit(x_train, y_train)\n",
    "\n",
    "mlp = MLPRegressor()\n",
    "mlpFit = mlp.fit(x_train, y_train)\n",
    "\n",
    "regr = AdaBoostRegressor(random_state=0, n_estimators=100)\n",
    "regrFit = regr.fit(x_train, y_train)\n",
    "\n",
    "clfRidge = Ridge(alpha=1.0)\n",
    "clfRidgeFit = clfRidge.fit(x_train, y_train)\n",
    "\n",
    "clfBayesian = linear_model.BayesianRidge()\n",
    "clfBayesianFit = clfBayesian.fit(x_train, y_train)\n",
    "\n",
    "reg = linear_model.LassoLars(alpha=0.01)\n",
    "regFit = reg.fit(x_train, y_train)\n",
    "\n",
    "bag = BaggingRegressor()\n",
    "bagFit = bag.fit(x_train, y_train)"
   ]
  },
  {
   "cell_type": "code",
   "execution_count": 13,
   "metadata": {},
   "outputs": [
    {
     "name": "stdout",
     "output_type": "stream",
     "text": [
      "Regression Tree MAD: 3.706792096501902\n",
      "Support Vector Regression MAD 4.911191358024689\n",
      "KNN MAD 2.859814814814819\n",
      "MLP MAD 2679.6807402710783\n",
      "AdaBoost MAD 2.961223210258522\n",
      "CLF Ridge MAD 3.9938774139707016\n",
      "CLF Bayesion MAD 4.046353091786808\n",
      "Reg MAD 3.9993825356186283\n",
      "Bag MAD 3.656138888888893\n"
     ]
    }
   ],
   "source": [
    "DT_MAD = mean_absolute_error(y_test, DT_regressionFit.predict(x_test))\n",
    "SVR_MAD = mean_absolute_error(y_test, svr_regressionFit.predict(x_test))\n",
    "KNN_MAD = mean_absolute_error(y_test, neighFit.predict(x_test))\n",
    "MLP_MAD = mean_absolute_error(y_test, mlpFit.predict(x_test))\n",
    "regr_MAD = mean_absolute_error(y_test, regrFit.predict(x_test))\n",
    "clfRidge_MAD = mean_absolute_error(y_test, clfRidgeFit.predict(x_test))\n",
    "clfBayesion_MAD = mean_absolute_error(y_test, clfBayesianFit.predict(x_test))\n",
    "reg_MAD = mean_absolute_error(y_test, regFit.predict(x_test))\n",
    "bag_MAD = mean_absolute_error(y_test, bagFit.predict(x_test))\n",
    "\n",
    "\n",
    "print('Regression Tree MAD: ' + str(DT_MAD))\n",
    "print('Support Vector Regression MAD ' + str(SVR_MAD))\n",
    "print('KNN MAD ' + str(KNN_MAD))\n",
    "print('MLP MAD ' + str(MLP_MAD))\n",
    "print('AdaBoost MAD ' + str(regr_MAD))\n",
    "print('CLF Ridge MAD ' + str(clfRidge_MAD))\n",
    "print('CLF Bayesion MAD ' + str(clfBayesion_MAD))\n",
    "print('Reg MAD ' + str(reg_MAD))\n",
    "print('Bag MAD ' + str(bag_MAD))"
   ]
  },
  {
   "cell_type": "code",
   "execution_count": 16,
   "metadata": {},
   "outputs": [
    {
     "data": {
      "text/html": [
       "<div>\n",
       "<style scoped>\n",
       "    .dataframe tbody tr th:only-of-type {\n",
       "        vertical-align: middle;\n",
       "    }\n",
       "\n",
       "    .dataframe tbody tr th {\n",
       "        vertical-align: top;\n",
       "    }\n",
       "\n",
       "    .dataframe thead th {\n",
       "        text-align: right;\n",
       "    }\n",
       "</style>\n",
       "<table border=\"1\" class=\"dataframe\">\n",
       "  <thead>\n",
       "    <tr style=\"text-align: right;\">\n",
       "      <th></th>\n",
       "      <th>school_id</th>\n",
       "      <th>actual_mean</th>\n",
       "      <th>predicted_mean</th>\n",
       "      <th>error</th>\n",
       "    </tr>\n",
       "  </thead>\n",
       "  <tbody>\n",
       "    <tr>\n",
       "      <td>0</td>\n",
       "      <td>300897</td>\n",
       "      <td>29.388333</td>\n",
       "      <td>29.806803</td>\n",
       "      <td>0.41847</td>\n",
       "    </tr>\n",
       "    <tr>\n",
       "      <td>1</td>\n",
       "      <td>107371</td>\n",
       "      <td>33.152000</td>\n",
       "      <td>27.186740</td>\n",
       "      <td>5.96526</td>\n",
       "    </tr>\n",
       "    <tr>\n",
       "      <td>2</td>\n",
       "      <td>305290</td>\n",
       "      <td>26.050000</td>\n",
       "      <td>24.910050</td>\n",
       "      <td>1.13995</td>\n",
       "    </tr>\n",
       "    <tr>\n",
       "      <td>3</td>\n",
       "      <td>105374</td>\n",
       "      <td>37.872000</td>\n",
       "      <td>32.350340</td>\n",
       "      <td>5.52166</td>\n",
       "    </tr>\n",
       "    <tr>\n",
       "      <td>4</td>\n",
       "      <td>106480</td>\n",
       "      <td>30.442000</td>\n",
       "      <td>31.772240</td>\n",
       "      <td>1.33024</td>\n",
       "    </tr>\n",
       "  </tbody>\n",
       "</table>\n",
       "</div>"
      ],
      "text/plain": [
       "   school_id  actual_mean  predicted_mean    error\n",
       "0     300897    29.388333       29.806803  0.41847\n",
       "1     107371    33.152000       27.186740  5.96526\n",
       "2     305290    26.050000       24.910050  1.13995\n",
       "3     105374    37.872000       32.350340  5.52166\n",
       "4     106480    30.442000       31.772240  1.33024"
      ]
     },
     "execution_count": 16,
     "metadata": {},
     "output_type": "execute_result"
    }
   ],
   "source": [
    "to_pred = dta.drop(['mean'], axis = 1)\n",
    "preds = RF_regressionFit.predict(to_pred)\n",
    "\n",
    "df = pd.read_csv(\"./data/y1314_df.csv\")\n",
    "df = df.drop(['intervention', 'latitude', 'longitude'], axis = 1)\n",
    "\n",
    "dta = pd.read_csv(\"./data/Preds.csv\")\n",
    "dta = pd.merge(dta, df, on = 'school_id')\n",
    "dta.shape\n",
    "dta.head()\n",
    "\n",
    "final_df = pd.DataFrame()\n",
    "final_df['school_id'] = dta['school_id']\n",
    "final_df['actual_mean'] = dta['mean']\n",
    "final_df['predicted_mean'] = preds.tolist()\n",
    "final_df['error'] = abs(final_df['actual_mean'] - final_df['predicted_mean'])\n",
    "\n",
    "final_df.head()"
   ]
  },
  {
   "cell_type": "code",
   "execution_count": 28,
   "metadata": {},
   "outputs": [
    {
     "name": "stdout",
     "output_type": "stream",
     "text": [
      "Mean Average Error: 1.993688099999998\n",
      "Mean Average Error Standard Deviation: 1.6156571906158192\n",
      "Overall True Mean: 28.136056666666672\n",
      "Predicted Overall Mean: 27.86777630000001\n",
      "Overall Mean Standard Deviation: 5.811106040528331\n",
      "Predicted Mean Standard Deviation: 4.399466930960937\n"
     ]
    }
   ],
   "source": [
    "print(\"Mean Average Error: \" + str(final_df['error'].mean()))\n",
    "print(\"Mean Average Error Standard Deviation: \" + str(final_df['error'].std()))\n",
    "print(\"Overall True Mean: \" + str(final_df['actual_mean'].mean()))\n",
    "print(\"Predicted Overall Mean: \" + str(final_df['predicted_mean'].mean()))\n",
    "print(\"Overall Mean Standard Deviation: \" + str(final_df['actual_mean'].std()))\n",
    "print(\"Predicted Mean Standard Deviation: \" + str(final_df['predicted_mean'].std()))"
   ]
  },
  {
   "cell_type": "code",
   "execution_count": null,
   "metadata": {},
   "outputs": [],
   "source": [
    "final_df.to_csv(\"./data/PredictedScores.csv\")"
   ]
  }
 ],
 "metadata": {
  "kernelspec": {
   "display_name": "Python 3",
   "language": "python",
   "name": "python3"
  },
  "language_info": {
   "codemirror_mode": {
    "name": "ipython",
    "version": 3
   },
   "file_extension": ".py",
   "mimetype": "text/x-python",
   "name": "python",
   "nbconvert_exporter": "python",
   "pygments_lexer": "ipython3",
   "version": "3.7.6"
  }
 },
 "nbformat": 4,
 "nbformat_minor": 4
}
