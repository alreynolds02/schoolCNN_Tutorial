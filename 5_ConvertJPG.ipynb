{
 "cells": [
  {
   "cell_type": "code",
   "execution_count": 2,
   "metadata": {},
   "outputs": [],
   "source": [
    "from PIL import Image\n",
    "import os\n",
    "\n",
    "directory = \"./data/imagery/\"\n",
    "\n",
    "# Convert the images to JPS's for the model validation here\n",
    "for filename in os.listdir(directory):\n",
    "    school_id = filename[0:6]\n",
    "    im = Image.open(directory + filename).convert('RGB')\n",
    "    new_name = \"./data/jpg/\" + school_id + '.jpg'\n",
    "    im.save(new_name)"
   ]
  },
  {
   "cell_type": "code",
   "execution_count": null,
   "metadata": {},
   "outputs": [],
   "source": []
  }
 ],
 "metadata": {
  "kernelspec": {
   "display_name": "Python 3",
   "language": "python",
   "name": "python3"
  },
  "language_info": {
   "codemirror_mode": {
    "name": "ipython",
    "version": 3
   },
   "file_extension": ".py",
   "mimetype": "text/x-python",
   "name": "python",
   "nbconvert_exporter": "python",
   "pygments_lexer": "ipython3",
   "version": "3.7.6"
  }
 },
 "nbformat": 4,
 "nbformat_minor": 4
}
