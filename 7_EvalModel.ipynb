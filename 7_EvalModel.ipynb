{
 "cells": [
  {
   "cell_type": "code",
   "execution_count": null,
   "metadata": {},
   "outputs": [],
   "source": [
    "import pandas as pd\n",
    "from sklearn.preprocessing import LabelEncoder"
   ]
  },
  {
   "cell_type": "code",
   "execution_count": null,
   "metadata": {},
   "outputs": [],
   "source": [
    "# Read in data\n",
    "dta = pd.read_csv(\"./data/y1314_df.csv\")\n",
    "dta = dta.drop(['overall_mean', 'latitude', 'longitude'], axis = 1)\n",
    "dta.head()\n",
    "\n",
    "# Static\n",
    "static = pd.read_csv(\"./data/Preds.csv\")\n",
    "static = static.drop(['Unnamed: 0'], axis = 1)\n",
    "static.head()\n",
    "\n",
    "static['class_pred'] = 9\n",
    "static['class_pred'][static['prob_pass'] >= 50] = 0\n",
    "static['class_pred'][static['prob_pass'] < 50] = 1\n",
    "static = pd.merge(static, dta, on = 'school_id')\n",
    "\n",
    "static['correct'] = 0\n",
    "static[\"correct\"][(static['intervention'] == 0) & (static[\"class_pred\"] == 0)] = 1\n",
    "static[\"correct\"][(static['intervention'] == 1) & (static[\"class_pred\"] == 1)] = 1\n",
    "\n",
    "print(sum(static['correct']) / len(static))"
   ]
  }
 ],
 "metadata": {
  "kernelspec": {
   "display_name": "Python 3",
   "language": "python",
   "name": "python3"
  },
  "language_info": {
   "codemirror_mode": {
    "name": "ipython",
    "version": 3
   },
   "file_extension": ".py",
   "mimetype": "text/x-python",
   "name": "python",
   "nbconvert_exporter": "python",
   "pygments_lexer": "ipython3",
   "version": "3.7.4"
  }
 },
 "nbformat": 4,
 "nbformat_minor": 4
}
