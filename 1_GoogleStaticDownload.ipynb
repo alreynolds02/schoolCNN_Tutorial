{
 "cells": [
  {
   "cell_type": "code",
   "execution_count": 2,
   "metadata": {},
   "outputs": [
    {
     "data": {
      "text/html": [
       "<div>\n",
       "<style scoped>\n",
       "    .dataframe tbody tr th:only-of-type {\n",
       "        vertical-align: middle;\n",
       "    }\n",
       "\n",
       "    .dataframe tbody tr th {\n",
       "        vertical-align: top;\n",
       "    }\n",
       "\n",
       "    .dataframe thead th {\n",
       "        text-align: right;\n",
       "    }\n",
       "</style>\n",
       "<table border=\"1\" class=\"dataframe\">\n",
       "  <thead>\n",
       "    <tr style=\"text-align: right;\">\n",
       "      <th></th>\n",
       "      <th>school_id</th>\n",
       "      <th>mean</th>\n",
       "      <th>intervention</th>\n",
       "      <th>latitude</th>\n",
       "      <th>longitude</th>\n",
       "    </tr>\n",
       "  </thead>\n",
       "  <tbody>\n",
       "    <tr>\n",
       "      <th>571</th>\n",
       "      <td>105003</td>\n",
       "      <td>32.728</td>\n",
       "      <td>0</td>\n",
       "      <td>14.899071</td>\n",
       "      <td>120.819633</td>\n",
       "    </tr>\n",
       "    <tr>\n",
       "      <th>1297</th>\n",
       "      <td>105782</td>\n",
       "      <td>35.936</td>\n",
       "      <td>0</td>\n",
       "      <td>15.596891</td>\n",
       "      <td>120.907028</td>\n",
       "    </tr>\n",
       "    <tr>\n",
       "      <th>4457</th>\n",
       "      <td>109141</td>\n",
       "      <td>17.866</td>\n",
       "      <td>1</td>\n",
       "      <td>13.440606</td>\n",
       "      <td>122.567441</td>\n",
       "    </tr>\n",
       "    <tr>\n",
       "      <th>944</th>\n",
       "      <td>105412</td>\n",
       "      <td>36.026</td>\n",
       "      <td>0</td>\n",
       "      <td>15.616245</td>\n",
       "      <td>120.761473</td>\n",
       "    </tr>\n",
       "    <tr>\n",
       "      <th>3912</th>\n",
       "      <td>108576</td>\n",
       "      <td>31.106</td>\n",
       "      <td>0</td>\n",
       "      <td>14.001368</td>\n",
       "      <td>122.347527</td>\n",
       "    </tr>\n",
       "  </tbody>\n",
       "</table>\n",
       "</div>"
      ],
      "text/plain": [
       "      school_id    mean  intervention   latitude   longitude\n",
       "571      105003  32.728             0  14.899071  120.819633\n",
       "1297     105782  35.936             0  15.596891  120.907028\n",
       "4457     109141  17.866             1  13.440606  122.567441\n",
       "944      105412  36.026             0  15.616245  120.761473\n",
       "3912     108576  31.106             0  14.001368  122.347527"
      ]
     },
     "execution_count": 2,
     "metadata": {},
     "output_type": "execute_result"
    }
   ],
   "source": [
    "import pandas as pd\n",
    "import urllib, os\n",
    "\n",
    "coords = pd.read_csv(\"./data/y1314_df.csv\")\n",
    "\n",
    "coords = coords.sample(100)\n",
    "\n",
    "coords.head()"
   ]
  },
  {
   "cell_type": "code",
   "execution_count": null,
   "metadata": {},
   "outputs": [],
   "source": [
    "def GetGoogleStatic(lat, long, school_id, intervention):\n",
    "    base = \"https://maps.googleapis.com/maps/api/staticmap?center=\"\n",
    "    lat = str(lat)\n",
    "    long = str(long)\n",
    "    url = base + lat + ',' + long + \"&zoom=17&size=224x224&maptype=satellite&key=INSERT_API_KEY_HERE\"\n",
    "    file = \"./imagery/\" + str(school_id) + \".png\"\n",
    "    urllib.request.urlretrieve(url, file)"
   ]
  },
  {
   "cell_type": "code",
   "execution_count": null,
   "metadata": {},
   "outputs": [],
   "source": [
    "count = 1\n",
    "\n",
    "for index, row in coords.iterrows():\n",
    "    msg = \"File #\" + str(count)\n",
    "    print(msg)\n",
    "    GetGoogleStatic(row['latitude'], row['longitude'], row['school_id'], row['intervention'])\n",
    "    count += 1"
   ]
  },
  {
   "cell_type": "code",
   "execution_count": null,
   "metadata": {},
   "outputs": [],
   "source": [
    "# GoogleCNN_Tutorial\n",
    "Code and tutorial for a CNN using Google Static API imagery to predict student success in Philippine public schools\n",
    "\n",
    "This repository has the code to replicate part of the work written about here  to predict student success in Philippine public schools. Follow the instructions below to train and evaluate your own convolutional neural network. THe code is written in juyter notebook to allow for easier visualization of the CNN results.\n",
    "\n",
    "## Instructions\n",
    "\n",
    "1. Clone this repository to your computer\n",
    "2. Create a new folder called 'data' and create the file structure shown below:\n",
    "```\n",
    "    |-- 1_GoogleStaticDownload.py\n",
    "    |-- 2_PassFailSplit.py\n",
    "    |-- 3_TrainValSplit.py \n",
    "    |-- 4_GoogleStaticCNN.py\n",
    "    |-- models\n",
    "    |-- epochs\n",
    "    |-- data\n",
    "        |-- pass\n",
    "        |-- fail\n",
    "        |-- train\n",
    "            |-- fail\n",
    "            |-- pass\n",
    "        |-- val\n",
    "            |-- fail\n",
    "            |-- fail\n",
    "```"
   ]
  }
 ],
 "metadata": {
  "kernelspec": {
   "display_name": "Python 3",
   "language": "python",
   "name": "python3"
  },
  "language_info": {
   "codemirror_mode": {
    "name": "ipython",
    "version": 3
   },
   "file_extension": ".py",
   "mimetype": "text/x-python",
   "name": "python",
   "nbconvert_exporter": "python",
   "pygments_lexer": "ipython3",
   "version": "3.7.4"
  }
 },
 "nbformat": 4,
 "nbformat_minor": 4
}
