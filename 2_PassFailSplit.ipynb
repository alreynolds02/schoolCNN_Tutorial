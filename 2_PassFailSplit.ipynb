{
 "cells": [
  {
   "cell_type": "code",
   "execution_count": 1,
   "metadata": {},
   "outputs": [],
   "source": [
    "import pandas as pd\n",
    "import shutil\n",
    "import os"
   ]
  },
  {
   "cell_type": "code",
   "execution_count": 2,
   "metadata": {},
   "outputs": [],
   "source": [
    "# Read in the data\n",
    "df = pd.read_csv(\"./data/y1314_df.csv\")\n",
    "df.head()\n",
    "\n",
    "# Set up the base directory\n",
    "directory = \"./data/imagery/\""
   ]
  },
  {
   "cell_type": "code",
   "execution_count": 4,
   "metadata": {},
   "outputs": [],
   "source": [
    "for filename in os.listdir(directory):\n",
    "    # The firt 6 characters in the file's path name are the school's unique ID number...\n",
    "    schoolID = filename[0:6]\n",
    "    # Use the school's ID to subset the dataframe to that school\n",
    "    subset = df[df['school_id'] == int(schoolID)]\n",
    "    # Construct the name of the file that will be copied into the pass or fail folder\n",
    "    fname = directory + filename\n",
    "    # If the school's intervention value is 1, move it into the fail folder (the school scored below average on the NAT)\n",
    "    if subset['intervention'].to_list()[0] == 1:\n",
    "        shutil.copy(fname, \"./data/fail/\")\n",
    "    # If the school's intervention value is 0, move it into the pass folder (the school scored above average on the NAT)\n",
    "    if subset['intervention'].to_list()[0] == 0:\n",
    "        shutil.copy(fname, \"./data/pass/\")"
   ]
  }
 ],
 "metadata": {
  "kernelspec": {
   "display_name": "Python 3",
   "language": "python",
   "name": "python3"
  },
  "language_info": {
   "codemirror_mode": {
    "name": "ipython",
    "version": 3
   },
   "file_extension": ".py",
   "mimetype": "text/x-python",
   "name": "python",
   "nbconvert_exporter": "python",
   "pygments_lexer": "ipython3",
   "version": "3.7.4"
  }
 },
 "nbformat": 4,
 "nbformat_minor": 4
}
